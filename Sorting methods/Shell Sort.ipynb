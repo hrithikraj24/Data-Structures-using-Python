{
 "cells": [
  {
   "cell_type": "code",
   "execution_count": 3,
   "metadata": {},
   "outputs": [
    {
     "name": "stdout",
     "output_type": "stream",
     "text": [
      "SHELL SORT!\n",
      "[1, 2, 6, 7, 9, 12, 17, 21, 23, 53, 61, 78, 89]\n",
      "[]\n",
      "[1, 5, 8, 9]\n",
      "[1, 3, 9, 12, 12, 34, 56, 234, 1300]\n",
      "[5]\n"
     ]
    }
   ],
   "source": [
    "def shell_sort(arr):\n",
    "    size = len(arr)\n",
    "    gap = size//2\n",
    "\n",
    "    while gap > 0:\n",
    "        for i in range(gap,size):\n",
    "            anchor = arr[i]\n",
    "            j = i\n",
    "            while j>=gap and arr[j-gap]>anchor:\n",
    "                arr[j] = arr[j-gap]\n",
    "                j -= gap\n",
    "            arr[j] = anchor\n",
    "        gap = gap // 2\n",
    "\n",
    "if __name__ == '__main__':\n",
    "    tests = [\n",
    "        [89, 78, 61, 53, 23, 21, 17, 12, 9, 7, 6, 2, 1],\n",
    "        [],\n",
    "        [1,5,8,9],\n",
    "        [234,3,1,56,34,12,9,12,1300],\n",
    "        [5]\n",
    "    ]\n",
    "    print(\"SHELL SORT!\")\n",
    "    for elements in tests:\n",
    "        shell_sort(elements)\n",
    "        print(elements)"
   ]
  },
  {
   "cell_type": "code",
   "execution_count": 8,
   "metadata": {},
   "outputs": [
    {
     "name": "stdout",
     "output_type": "stream",
     "text": [
      "Given unsorted list: [2, 1, 5, 7, 2, 0, 5, 1, 2, 9, 5, 8, 3]\n",
      "List after Sorting using Shell Short: [0, 1, 2, 3, 5, 7, 8, 9]\n"
     ]
    }
   ],
   "source": [
    "def shell_sort(arr):\n",
    "    n = len(arr)\n",
    "    div = 2\n",
    "    gap = n//div\n",
    "    while gap > 0:\n",
    "        index_to_delete = []\n",
    "        for i in range(gap, n):\n",
    "            temp = arr[i]\n",
    "            j = i\n",
    "            while j >= gap and arr[j-gap] >= temp:\n",
    "                if arr[j-gap] == temp:\n",
    "                    index_to_delete.append(j)\n",
    "                arr[j] = arr[j-gap]\n",
    "                j -= gap\n",
    "            arr[j] = temp\n",
    "        index_to_delete=list(set(index_to_delete))\n",
    "        index_to_delete.sort()\n",
    "        if index_to_delete:\n",
    "            for i in index_to_delete[-1::-1]:\n",
    "                del arr[i]\n",
    "        div *= 2\n",
    "        n = len(arr)\n",
    "        gap = n//div\n",
    "\n",
    "\n",
    "if __name__ == '__main__':\n",
    "    elements = [2, 1, 5, 7, 2, 0, 5, 1, 2, 9,  5, 8, 3]\n",
    "\n",
    "    print(f'Given unsorted list: {elements}')\n",
    "    shell_sort(elements)\n",
    "    print(f'List after Sorting using Shell Short: {elements}')"
   ]
  }
 ],
 "metadata": {
  "kernelspec": {
   "display_name": "Python 3",
   "language": "python",
   "name": "python3"
  },
  "language_info": {
   "codemirror_mode": {
    "name": "ipython",
    "version": 3
   },
   "file_extension": ".py",
   "mimetype": "text/x-python",
   "name": "python",
   "nbconvert_exporter": "python",
   "pygments_lexer": "ipython3",
   "version": "3.8.5"
  }
 },
 "nbformat": 4,
 "nbformat_minor": 4
}
