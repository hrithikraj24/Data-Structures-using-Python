{
 "cells": [
  {
   "cell_type": "code",
   "execution_count": 1,
   "metadata": {},
   "outputs": [
    {
     "name": "stdout",
     "output_type": "stream",
     "text": [
      "MERGE SORT!\n",
      "[3, 7, 8, 10, 15, 23, 29, 98]\n",
      "[]\n",
      "[3]\n",
      "[2, 7, 8, 9]\n",
      "[1, 2, 3, 4, 5]\n"
     ]
    }
   ],
   "source": [
    "def merge_sort(arr):\n",
    "    if len(arr) <= 1:\n",
    "        return\n",
    "\n",
    "    mid = len(arr)//2\n",
    "\n",
    "    left = arr[:mid]\n",
    "    right = arr[mid:]\n",
    "\n",
    "    merge_sort(left)\n",
    "    merge_sort(right)\n",
    "\n",
    "    merge_two_sorted_lists(left, right, arr)\n",
    "\n",
    "def merge_two_sorted_lists(a,b,arr):\n",
    "    len_a = len(a)\n",
    "    len_b = len(b)\n",
    "\n",
    "    i = j = k = 0\n",
    "\n",
    "    while i < len_a and j < len_b:\n",
    "        if a[i] <= b[j]:\n",
    "            arr[k] = a[i]\n",
    "            i+=1\n",
    "        else:\n",
    "            arr[k] = b[j]\n",
    "            j+=1\n",
    "        k+=1\n",
    "\n",
    "    while i < len_a:\n",
    "        arr[k] = a[i]\n",
    "        i+=1\n",
    "        k+=1\n",
    "\n",
    "    while j < len_b:\n",
    "        arr[k] = b[j]\n",
    "        j+=1\n",
    "        k+=1\n",
    "\n",
    "if __name__ == '__main__':\n",
    "    test_cases = [\n",
    "        [10, 3, 15, 7, 8, 23, 98, 29],\n",
    "        [],\n",
    "        [3],\n",
    "        [9,8,7,2],\n",
    "        [1,2,3,4,5]\n",
    "    ]\n",
    "    print(\"MERGE SORT!\")\n",
    "    for arr in test_cases:\n",
    "        merge_sort(arr)\n",
    "        print(arr)"
   ]
  },
  {
   "cell_type": "code",
   "execution_count": 2,
   "metadata": {},
   "outputs": [
    {
     "name": "stdout",
     "output_type": "stream",
     "text": [
      "Merge Sort for different scenarios\n",
      "[{'name': 'rajab', 'age': 12, 'time_hours': 3}, {'name': 'vignesh', 'age': 21, 'time_hours': 2.5}, {'name': 'chinmay', 'age': 24, 'time_hours': 1.5}, {'name': 'vedanth', 'age': 17, 'time_hours': 1}]\n"
     ]
    }
   ],
   "source": [
    "def merge_sort(elements, key, descending=False):\n",
    "    size = len(elements)\n",
    "\n",
    "    if size == 1:\n",
    "        return elements\n",
    "\n",
    "    left_list = merge_sort(elements[0:size//2], key, descending)\n",
    "    right_list = merge_sort(elements[size//2:], key, descending)\n",
    "    sorted_list = merge(left_list, right_list, key, descending)\n",
    "\n",
    "    return sorted_list\n",
    "\n",
    "    \n",
    "def merge(left_list, right_list, key, descending=False):\n",
    "    merged = []\n",
    "    if descending:\n",
    "        while len(left_list) > 0 and len(right_list) > 0:\n",
    "            if left_list[0][key] >= right_list[0][key]:\n",
    "                merged.append(left_list.pop(0))\n",
    "            else:\n",
    "                merged.append(right_list.pop(0))\n",
    "\n",
    "    else:\n",
    "        while len(left_list) > 0 and len(right_list) > 0:\n",
    "            if left_list[0][key] <= right_list[0][key]:\n",
    "                merged.append(left_list.pop(0))\n",
    "            else:\n",
    "                merged.append(right_list.pop(0))\n",
    "\n",
    "    merged.extend(left_list)\n",
    "    merged.extend(right_list)\n",
    "    return merged\n",
    "\n",
    "if __name__ == '__main__':\n",
    "    elements = [\n",
    "        { 'name': 'vedanth',   'age': 17, 'time_hours': 1},\n",
    "        { 'name': 'rajab', 'age': 12,  'time_hours': 3},\n",
    "        { 'name': 'vignesh',  'age': 21,  'time_hours': 2.5},\n",
    "        { 'name': 'chinmay',  'age': 24,  'time_hours': 1.5},\n",
    "    ]\n",
    "    print(\"Merge Sort for different scenarios\")\n",
    "    sorted_list = merge_sort(elements, key='time_hours', descending=True)\n",
    "    print(sorted_list)"
   ]
  }
 ],
 "metadata": {
  "kernelspec": {
   "display_name": "Python 3",
   "language": "python",
   "name": "python3"
  },
  "language_info": {
   "codemirror_mode": {
    "name": "ipython",
    "version": 3
   },
   "file_extension": ".py",
   "mimetype": "text/x-python",
   "name": "python",
   "nbconvert_exporter": "python",
   "pygments_lexer": "ipython3",
   "version": "3.8.5"
  }
 },
 "nbformat": 4,
 "nbformat_minor": 4
}
