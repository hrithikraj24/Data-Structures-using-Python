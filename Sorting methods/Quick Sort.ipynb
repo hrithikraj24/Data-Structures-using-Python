{
 "cells": [
  {
   "cell_type": "code",
   "execution_count": 3,
   "metadata": {},
   "outputs": [
    {
     "name": "stdout",
     "output_type": "stream",
     "text": [
      "[2, 7, 9, 11, 15, 28, 29]\n",
      "Sorted array using Haore Partition Scheme : [2, 7, 9, 11, 15, 28, 29]\n",
      "Sorted array using Haore Partition Scheme : [3, 7, 9, 11]\n",
      "Sorted array using Haore Partition Scheme : [10, 21, 22, 25]\n",
      "Sorted array using Haore Partition Scheme : [15, 28, 29]\n",
      "Sorted array using Haore Partition Scheme : []\n",
      "Sorted array using Haore Partition Scheme : [6]\n"
     ]
    }
   ],
   "source": [
    "def swap(a, b, arr):\n",
    "    arr[a], arr[b] = arr[b], arr[a]\n",
    "\n",
    "def quick_sort(elements, start, end):\n",
    "    if start < end:\n",
    "        pi = partition(elements, start, end)\n",
    "        quick_sort(elements, start, pi-1)\n",
    "        quick_sort(elements, pi+1, end)\n",
    "\n",
    "def partition(elements, start, end):\n",
    "    pivot_index = start\n",
    "    pivot = elements[pivot_index]\n",
    "\n",
    "    while start < end:\n",
    "        while start < len(elements) and elements[start] <= pivot:\n",
    "            start+=1\n",
    "\n",
    "        while elements[end] > pivot:\n",
    "            end-=1\n",
    "\n",
    "        if start < end:\n",
    "            swap(start, end, elements)\n",
    "\n",
    "    swap(pivot_index, end, elements)\n",
    "\n",
    "    return end\n",
    "\n",
    "\n",
    "if __name__ == '__main__':\n",
    "    elements = [11,9,29,7,2,15,28]\n",
    "    quick_sort(elements, 0, len(elements)-1)\n",
    "    print(elements)\n",
    "\n",
    "    tests = [\n",
    "        [11,9,29,7,2,15,28],\n",
    "        [3, 7, 9, 11],\n",
    "        [25, 22, 21, 10],\n",
    "        [29, 15, 28],\n",
    "        [],\n",
    "        [6]\n",
    "    ]\n",
    "\n",
    "    for elements in tests:\n",
    "        quick_sort(elements, 0, len(elements)-1)\n",
    "        print(f'Sorted array using Haore Partition Scheme : {elements}')"
   ]
  },
  {
   "cell_type": "code",
   "execution_count": 4,
   "metadata": {},
   "outputs": [
    {
     "name": "stdout",
     "output_type": "stream",
     "text": [
      "Sorted array using Lomuto Partition Scheme : [2, 7, 9, 11, 15, 28, 29]\n",
      "Sorted array using Lomuto Partition Scheme : [3, 7, 9, 11]\n",
      "Sorted array using Lomuto Partition Scheme : [10, 21, 22, 25]\n",
      "Sorted array using Lomuto Partition Scheme : [15, 28, 29]\n",
      "Sorted array using Lomuto Partition Scheme : []\n",
      "Sorted array using Lomuto Partition Scheme : [6]\n"
     ]
    }
   ],
   "source": [
    "def swap(a, b, arr):\n",
    "    arr[a], arr[b] = arr[b], arr[a]\n",
    "\n",
    "def quick_sort(elements, start, end):\n",
    "    if len(elements)== 1:\n",
    "        return\n",
    "    if start < end:\n",
    "        pi = partition(elements, start, end)\n",
    "        quick_sort(elements, start, pi-1)\n",
    "        quick_sort(elements, pi+1, end)\n",
    "\n",
    "def partition(elements, start, end):\n",
    "    pivot = elements[end]\n",
    "    p_index = start\n",
    "\n",
    "    for i in range(start, end):\n",
    "        if elements[i] <= pivot:\n",
    "            swap(i, p_index, elements)\n",
    "            p_index += 1\n",
    "\n",
    "    swap(p_index, end, elements)\n",
    "\n",
    "    return p_index\n",
    "\n",
    "\n",
    "if __name__ == '__main__':\n",
    "    tests = [\n",
    "        [11,9,29,7,2,15,28],\n",
    "        [3, 7, 9, 11],\n",
    "        [25, 22, 21, 10],\n",
    "        [29, 15, 28],\n",
    "        [],\n",
    "        [6]\n",
    "    ]\n",
    "    # elements = [\"mona\", \"dhaval\", \"aamir\", \"tina\", \"chang\"]\n",
    "\n",
    "    for elements in tests:\n",
    "        quick_sort(elements, 0, len(elements)-1)\n",
    "        print(f'Sorted array using Lomuto Partition Scheme : {elements}')"
   ]
  }
 ],
 "metadata": {
  "kernelspec": {
   "display_name": "Python 3",
   "language": "python",
   "name": "python3"
  },
  "language_info": {
   "codemirror_mode": {
    "name": "ipython",
    "version": 3
   },
   "file_extension": ".py",
   "mimetype": "text/x-python",
   "name": "python",
   "nbconvert_exporter": "python",
   "pygments_lexer": "ipython3",
   "version": "3.8.5"
  }
 },
 "nbformat": 4,
 "nbformat_minor": 4
}
